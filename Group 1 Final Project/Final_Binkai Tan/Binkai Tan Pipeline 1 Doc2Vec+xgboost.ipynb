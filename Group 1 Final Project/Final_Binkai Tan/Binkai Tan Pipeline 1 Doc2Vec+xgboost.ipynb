{
 "cells": [
  {
   "cell_type": "markdown",
   "metadata": {
    "colab_type": "text",
    "id": "7R-ZahOWgBf2"
   },
   "source": [
    "## 0 Preview"
   ]
  },
  {
   "cell_type": "markdown",
   "metadata": {
    "colab_type": "text",
    "id": "jpp0RK5DKWAS"
   },
   "source": [
    "![](http://www.i-tbk.com/flowchart.png)\n",
    "\n"
   ]
  },
  {
   "cell_type": "markdown",
   "metadata": {
    "colab_type": "text",
    "id": "JkZ3wwYaZHri"
   },
   "source": [
    "![](http://www.i-tbk.com/flow1.png)"
   ]
  },
  {
   "cell_type": "markdown",
   "metadata": {
    "colab_type": "text",
    "id": "KoK9jiw0Q3yG"
   },
   "source": [
    "## 1 Preprocessing"
   ]
  },
  {
   "cell_type": "code",
   "execution_count": 0,
   "metadata": {
    "colab": {
     "base_uri": "https://localhost:8080/",
     "height": 128
    },
    "colab_type": "code",
    "id": "LelOFOr6QnC5",
    "outputId": "9b03ad2f-02b7-4eb7-99e8-920f4e9da1d3"
   },
   "outputs": [
    {
     "name": "stdout",
     "output_type": "stream",
     "text": [
      "Go to this URL in a browser: https://accounts.google.com/o/oauth2/auth?client_id=947318989803-6bn6qk8qdgf4n4g3pfee6491hc0brc4i.apps.googleusercontent.com&redirect_uri=urn%3Aietf%3Awg%3Aoauth%3A2.0%3Aoob&scope=email%20https%3A%2F%2Fwww.googleapis.com%2Fauth%2Fdocs.test%20https%3A%2F%2Fwww.googleapis.com%2Fauth%2Fdrive%20https%3A%2F%2Fwww.googleapis.com%2Fauth%2Fdrive.photos.readonly%20https%3A%2F%2Fwww.googleapis.com%2Fauth%2Fpeopleapi.readonly&response_type=code\n",
      "\n",
      "Enter your authorization code:\n",
      "··········\n",
      "Mounted at /content/drive\n"
     ]
    }
   ],
   "source": [
    "# Load the Drive helper and mount\n",
    "from google.colab import drive\n",
    "\n",
    "# This will prompt for authorization.\n",
    "drive.mount('/content/drive')"
   ]
  },
  {
   "cell_type": "code",
   "execution_count": 0,
   "metadata": {
    "colab": {
     "base_uri": "https://localhost:8080/",
     "height": 163
    },
    "colab_type": "code",
    "id": "79tqRGqzlO6_",
    "outputId": "ac9eb67b-a237-44a1-b21f-711a8dbfc937"
   },
   "outputs": [
    {
     "name": "stdout",
     "output_type": "stream",
     "text": [
      "[nltk_data] Downloading package gutenberg to /root/nltk_data...\n",
      "[nltk_data]   Package gutenberg is already up-to-date!\n",
      "[nltk_data] Downloading package reuters to /root/nltk_data...\n",
      "[nltk_data]   Package reuters is already up-to-date!\n",
      "[nltk_data] Downloading package stopwords to /root/nltk_data...\n",
      "[nltk_data]   Package stopwords is already up-to-date!\n",
      "[nltk_data] Downloading package punkt to /root/nltk_data...\n",
      "[nltk_data]   Package punkt is already up-to-date!\n"
     ]
    }
   ],
   "source": [
    "import nltk\n",
    "nltk.download('gutenberg')\n",
    "nltk.download('reuters')\n",
    "nltk.download('stopwords')\n",
    "nltk.download('punkt')\n",
    "\n",
    "import os\n",
    "ROOTDIR = os.path.abspath(os.path.dirname('__file__'))\n",
    "DATADIR = os.path.join(ROOTDIR, 'data')"
   ]
  },
  {
   "cell_type": "code",
   "execution_count": 0,
   "metadata": {
    "colab": {
     "base_uri": "https://localhost:8080/",
     "height": 35
    },
    "colab_type": "code",
    "id": "YlFQ05D3vBNR",
    "outputId": "3c1beab2-50bb-4d62-eaef-28937c8efe4b"
   },
   "outputs": [
    {
     "name": "stderr",
     "output_type": "stream",
     "text": [
      "Using TensorFlow backend.\n"
     ]
    }
   ],
   "source": [
    "import numpy as np \n",
    "import pandas as pd\n",
    "import re\n",
    "import gc\n",
    "import fileinput\n",
    "import string\n",
    "import tensorflow as tf\n",
    "import zipfile\n",
    "import datetime\n",
    "import sys\n",
    "import random\n",
    "from tqdm  import tqdm\n",
    "import matplotlib.pyplot as plt\n",
    "tqdm.pandas()\n",
    "from nltk.tokenize import wordpunct_tokenize\n",
    "from nltk.corpus import stopwords\n",
    "from nltk.stem.snowball import SnowballStemmer\n",
    "from sklearn.feature_extraction.text import CountVectorizer\n",
    "from sklearn.preprocessing import LabelEncoder\n",
    "from sklearn.metrics import accuracy_score\n",
    "from sklearn.metrics import f1_score, roc_auc_score\n",
    "\n",
    "from keras.preprocessing.text import Tokenizer\n",
    "from keras.preprocessing.sequence import pad_sequences\n",
    "from keras.models import Sequential\n",
    "from keras.layers import Dense, Flatten, LSTM, Conv1D, MaxPooling1D, Dropout, Activation\n",
    "from keras.layers.embeddings import Embedding\n",
    "from sklearn.metrics import classification_report\n",
    "\n",
    "from time import time\n",
    "from operator import itemgetter\n",
    "from scipy.stats import randint as sp_randint\n",
    "from sklearn.model_selection import GridSearchCV, RandomizedSearchCV\n",
    "from sklearn.datasets import load_digits\n",
    "from sklearn.ensemble import RandomForestClassifier\n"
   ]
  },
  {
   "cell_type": "markdown",
   "metadata": {
    "colab_type": "text",
    "id": "aqc3gwvPt8XT"
   },
   "source": [
    "## 2 Cleaning Data"
   ]
  },
  {
   "cell_type": "markdown",
   "metadata": {
    "colab_type": "text",
    "id": "f2zVNBcRDazO"
   },
   "source": [
    "### Remove Stop Words and Sten"
   ]
  },
  {
   "cell_type": "code",
   "execution_count": 0,
   "metadata": {
    "colab": {
     "base_uri": "https://localhost:8080/",
     "height": 72
    },
    "colab_type": "code",
    "id": "TzkcTkdyvJj6",
    "outputId": "f44edd19-c70d-48e8-ef02-54760a154eb0"
   },
   "outputs": [
    {
     "name": "stdout",
     "output_type": "stream",
     "text": [
      "[nltk_data] Downloading package wordnet to /root/nltk_data...\n",
      "[nltk_data]   Package wordnet is already up-to-date!\n"
     ]
    },
    {
     "data": {
      "text/plain": [
       "True"
      ]
     },
     "execution_count": 4,
     "metadata": {
      "tags": []
     },
     "output_type": "execute_result"
    }
   ],
   "source": [
    "valid_forms = ['0','1']\n",
    "blank = '----'\n",
    "import nltk\n",
    "nltk.download('wordnet')"
   ]
  },
  {
   "cell_type": "code",
   "execution_count": 0,
   "metadata": {
    "colab": {
     "base_uri": "https://localhost:8080/",
     "height": 183
    },
    "colab_type": "code",
    "id": "hQ7RTAept2Gd",
    "outputId": "7f36cce1-cd22-46c0-aed0-5cbe00348187"
   },
   "outputs": [
    {
     "name": "stderr",
     "output_type": "stream",
     "text": [
      "/usr/local/lib/python3.6/dist-packages/ipykernel_launcher.py:12: DeprecationWarning: Call to deprecated `LabeledSentence` (Class will be removed in 4.0.0, use TaggedDocument instead).\n",
      "  if sys.path[0] == '':\n"
     ]
    },
    {
     "data": {
      "text/plain": [
       "0    daniel greenfield shillman journalism fellow f...\n",
       "1    google pinterest digg linkedin reddit stumbleu...\n",
       "2    u secretary state john f kerry say monday stop...\n",
       "3    kaydee king kaydeeking november 9 2016 lesson ...\n",
       "4    primary day new york frontrunners hillary clin...\n",
       "Name: text, dtype: object"
      ]
     },
     "execution_count": 6,
     "metadata": {
      "tags": []
     },
     "output_type": "execute_result"
    }
   ],
   "source": [
    "from nltk import word_tokenize\n",
    "from nltk.corpus import stopwords\n",
    "from nltk.stem import WordNetLemmatizer\n",
    "from gensim.models.doc2vec import LabeledSentence\n",
    "from gensim import utils\n",
    "import re\n",
    "import string\n",
    "\n",
    "def constructLabeledSentences(data):\n",
    "    sentences=[]\n",
    "    for index, row in data.iteritems():\n",
    "        sentences.append(LabeledSentence(utils.to_unicode(row).split(), ['Text' + '_%s' % str(index)]))\n",
    "    return sentences\n",
    "\n",
    "def lemmatize(tokens: list) -> list:\n",
    "    # 1. Lemmatize\n",
    "    lemmatizer = WordNetLemmatizer()\n",
    "    tokens = list(map(lemmatizer.lemmatize, tokens))\n",
    "    lemmatized_tokens = list(map(lambda x: lemmatizer.lemmatize(x, \"v\"), tokens))\n",
    "    # 2. Remove stop words\n",
    "    stops = set(stopwords.words(\"english\"))\n",
    "    meaningful_words = list(filter(lambda x: not x in stops, lemmatized_tokens))\n",
    "    return \" \".join(meaningful_words)\n",
    "    \n",
    "def textClean(text):\n",
    "    text = re.sub(r\"[^A-Za-z0-9^,!.\\/'+-=]\", \" \", text)\n",
    "    text = text.lower().split()\n",
    "    stops = set(stopwords.words(\"english\"))\n",
    "    text = [w for w in text if not w in stops]    \n",
    "    text = \" \".join(text)\n",
    "    return(text)\n",
    "\n",
    "def cleanup(text):\n",
    "    text = textClean(text)\n",
    "    text= text.translate(str.maketrans(\"\",\"\", string.punctuation))\n",
    "    tokens = word_tokenize(text)\n",
    "    text = lemmatize(tokens)\n",
    "    return text\n",
    "\n",
    "\n",
    "data = pd.read_csv('/content/drive/My Drive/Colab Notebooks/FakeNewsTutorials/Group Task/data/fake_or_real_news.csv')\n",
    "# data = shuffle(data, random_state=42)\n",
    "\n",
    "data['text'] = data['text'].apply(cleanup)\n",
    "data['title'] = data['title'].apply(cleanup)\n",
    "y = data.label.values\n",
    "text = data['text']\n",
    "title = data['title']\n",
    "sentences = constructLabeledSentences(text)\n",
    "sentences_title = constructLabeledSentences(title)\n",
    "text.head()"
   ]
  },
  {
   "cell_type": "code",
   "execution_count": 0,
   "metadata": {
    "colab": {
     "base_uri": "https://localhost:8080/",
     "height": 254
    },
    "colab_type": "code",
    "id": "pwAXz7uCt2JC",
    "outputId": "ae25322f-dd66-42e0-8113-7f6af096cdb7"
   },
   "outputs": [
    {
     "name": "stdout",
     "output_type": "stream",
     "text": [
      "        0         1         2    ...       297       298       299\n",
      "0  0.011534  0.004214  0.019693  ... -0.021955 -0.018844 -0.000646\n",
      "1  0.112677  0.025190 -0.002126  ... -0.037480 -0.003369 -0.014175\n",
      "2  0.042530  0.043003  0.018484  ... -0.019186  0.011347  0.007236\n",
      "3  0.108016  0.115832  0.028748  ... -0.090220  0.018878  0.032855\n",
      "4  0.016902  0.007135 -0.007812  ... -0.011648  0.019537  0.045175\n",
      "5  0.026981  0.022141  0.013287  ... -0.013693  0.034119  0.001712\n",
      "6  0.050299  0.059615  0.027677  ... -0.089104  0.009580 -0.028881\n",
      "7  0.030110  0.023762  0.010421  ... -0.015965  0.034937  0.024232\n",
      "8  0.051177 -0.029867 -0.028427  ... -0.021460 -0.021718  0.014612\n",
      "9  0.063163  0.131092  0.085660  ... -0.042489  0.069046  0.002264\n",
      "\n",
      "[10 rows x 300 columns]\n"
     ]
    }
   ],
   "source": [
    "df = pd.DataFrame()\n",
    "df[\"Title\"] = data.title.values\n",
    "df[\"Text\"] = text\n",
    "df[\"Label\"] = y\n",
    "\n",
    "vector = []\n",
    "for i in range(len(data.title_vectors.values)):\n",
    "    temp = data.title_vectors.values[i].strip('[ ').strip(' ]')\n",
    "    temp = temp.replace('\\n', ' ')\n",
    "    temp = temp.replace('  ', ' ')\n",
    "    temp = temp.replace('  ', ' ')\n",
    "    temp = temp.replace('  ', ' ')\n",
    "    temp = temp.replace('  ', ' ')\n",
    "    temp = temp.split(\" \")\n",
    "    temp = [float(j) for j in temp]\n",
    "\n",
    "    vector.append(temp)\n",
    "vector = pd.DataFrame(vector)\n",
    "print(vector.head(10))\n",
    "\n",
    "X = df[\"Text\"]\n",
    "y = df[\"Label\"]"
   ]
  },
  {
   "cell_type": "markdown",
   "metadata": {
    "colab_type": "text",
    "id": "FcVPAvQLFMAo"
   },
   "source": [
    "Delete data where text = \"\""
   ]
  },
  {
   "cell_type": "code",
   "execution_count": 0,
   "metadata": {
    "colab": {},
    "colab_type": "code",
    "id": "A80LRVk7EtIo"
   },
   "outputs": [],
   "source": [
    "# print(vector.loc[106,:])\n",
    "# print(df.loc[106,:])\n",
    "\n",
    "df0 = df.copy()\n",
    "for i in range(len(df)):\n",
    "    if df.loc[i, 'Label'] == \"REAL\":\n",
    "        df.loc[i, 'Label'] = 0\n",
    "    elif df.loc[i, 'Label'] == \"FAKE\":\n",
    "        df.loc[i, 'Label'] = 1\n",
    "    if df.loc[i, 'Text'] == \"\":\n",
    "        df = df.drop([i])\n",
    "df[\"id\"] = [i for i in range(len(df))]"
   ]
  },
  {
   "cell_type": "code",
   "execution_count": 0,
   "metadata": {
    "colab": {
     "base_uri": "https://localhost:8080/",
     "height": 206
    },
    "colab_type": "code",
    "id": "Ko5pGmHRt2Lt",
    "outputId": "2e8bc52c-94da-4498-d22a-5ec707130eb4"
   },
   "outputs": [
    {
     "data": {
      "text/html": [
       "<div>\n",
       "<style scoped>\n",
       "    .dataframe tbody tr th:only-of-type {\n",
       "        vertical-align: middle;\n",
       "    }\n",
       "\n",
       "    .dataframe tbody tr th {\n",
       "        vertical-align: top;\n",
       "    }\n",
       "\n",
       "    .dataframe thead th {\n",
       "        text-align: right;\n",
       "    }\n",
       "</style>\n",
       "<table border=\"1\" class=\"dataframe\">\n",
       "  <thead>\n",
       "    <tr style=\"text-align: right;\">\n",
       "      <th></th>\n",
       "      <th>Title</th>\n",
       "      <th>Text</th>\n",
       "      <th>Label</th>\n",
       "      <th>id</th>\n",
       "    </tr>\n",
       "  </thead>\n",
       "  <tbody>\n",
       "    <tr>\n",
       "      <th>0</th>\n",
       "      <td>smell hillary fear</td>\n",
       "      <td>daniel greenfield shillman journalism fellow f...</td>\n",
       "      <td>1</td>\n",
       "      <td>0</td>\n",
       "    </tr>\n",
       "    <tr>\n",
       "      <th>1</th>\n",
       "      <td>watch exact moment paul ryan commit political ...</td>\n",
       "      <td>google pinterest digg linkedin reddit stumbleu...</td>\n",
       "      <td>1</td>\n",
       "      <td>1</td>\n",
       "    </tr>\n",
       "    <tr>\n",
       "      <th>2</th>\n",
       "      <td>kerry go paris gesture sympathy</td>\n",
       "      <td>u secretary state john f kerry say monday stop...</td>\n",
       "      <td>0</td>\n",
       "      <td>2</td>\n",
       "    </tr>\n",
       "    <tr>\n",
       "      <th>3</th>\n",
       "      <td>bernie supporter twitter erupt anger dnc try warn</td>\n",
       "      <td>kaydee king kaydeeking november 9 2016 lesson ...</td>\n",
       "      <td>1</td>\n",
       "      <td>3</td>\n",
       "    </tr>\n",
       "    <tr>\n",
       "      <th>4</th>\n",
       "      <td>battle new york primary matter</td>\n",
       "      <td>primary day new york frontrunners hillary clin...</td>\n",
       "      <td>0</td>\n",
       "      <td>4</td>\n",
       "    </tr>\n",
       "  </tbody>\n",
       "</table>\n",
       "</div>"
      ],
      "text/plain": [
       "                                               Title  ... id\n",
       "0                                 smell hillary fear  ...  0\n",
       "1  watch exact moment paul ryan commit political ...  ...  1\n",
       "2                    kerry go paris gesture sympathy  ...  2\n",
       "3  bernie supporter twitter erupt anger dnc try warn  ...  3\n",
       "4                     battle new york primary matter  ...  4\n",
       "\n",
       "[5 rows x 4 columns]"
      ]
     },
     "execution_count": 9,
     "metadata": {
      "tags": []
     },
     "output_type": "execute_result"
    }
   ],
   "source": [
    "df.head()"
   ]
  },
  {
   "cell_type": "code",
   "execution_count": 0,
   "metadata": {
    "colab": {
     "base_uri": "https://localhost:8080/",
     "height": 53
    },
    "colab_type": "code",
    "id": "gIx5YG5jCSKa",
    "outputId": "94225d25-1c00-4403-9b0a-e519be43e55a"
   },
   "outputs": [
    {
     "name": "stdout",
     "output_type": "stream",
     "text": [
      "Label = 0(Real News):  3171\n",
      "Label = 1(Fake News):  3128\n"
     ]
    }
   ],
   "source": [
    "print('Label = 0(Real News): ', len(df[df['Label']==0]))\n",
    "print('Label = 1(Fake News): ', len(df[df['Label']==1]))"
   ]
  },
  {
   "cell_type": "markdown",
   "metadata": {
    "colab_type": "text",
    "id": "OoVWyHfmFru0"
   },
   "source": [
    "## 3 EDA"
   ]
  },
  {
   "cell_type": "markdown",
   "metadata": {
    "colab_type": "text",
    "id": "9k0TdDAyF5fQ"
   },
   "source": [
    "### 3.1 Word Counts\n",
    "Find the top 15 words by dataset/real or fake"
   ]
  },
  {
   "cell_type": "code",
   "execution_count": 0,
   "metadata": {
    "colab": {},
    "colab_type": "code",
    "id": "j_Q8O0LUsj4n"
   },
   "outputs": [],
   "source": [
    "def cleanwordcounts(text):\n",
    "    #returns words counts minus stopwords from nltk and chinese characters\n",
    "    #expects pandas series or single string\n",
    "    #CountVectorizer expects iterable over raw text documents, so transform text\n",
    "    #if simple string\n",
    "    if type(text)==str:\n",
    "        text = [text,'']\n",
    "    \n",
    "    stpwords = stopwords.words('english')\n",
    "    #instantiate countvectorizer\n",
    "    tokens = CountVectorizer(stop_words=stpwords,analyzer='word',token_pattern=r'\\w+')\n",
    "    #transform corpus into vector space\n",
    "    textvec = pd.DataFrame(tokens.fit_transform(text).toarray())\n",
    "    #create counts dataframe\n",
    "    counts = pd.DataFrame(list(zip(tokens.get_feature_names(),textvec.sum().values)),columns=['word','counts'])\n",
    "    #remove any chinese characters\n",
    "    counts['word'] = counts['word'].str.replace(r'[^\\x00-\\x7F]+', '')\n",
    "    #drop rows where chinese characters residedp\n",
    "    counts.drop(counts[counts['word']==''].index, inplace=True)\n",
    "    return counts.sort_values(by=['counts'],ascending=False).reset_index(drop=True)"
   ]
  },
  {
   "cell_type": "code",
   "execution_count": 0,
   "metadata": {
    "colab": {
     "base_uri": "https://localhost:8080/",
     "height": 520
    },
    "colab_type": "code",
    "id": "4XK-AEE3CSae",
    "outputId": "48b3f63b-d8ce-4710-f5c7-e08fee814b8d"
   },
   "outputs": [
    {
     "data": {
      "text/html": [
       "<div>\n",
       "<style scoped>\n",
       "    .dataframe tbody tr th:only-of-type {\n",
       "        vertical-align: middle;\n",
       "    }\n",
       "\n",
       "    .dataframe tbody tr th {\n",
       "        vertical-align: top;\n",
       "    }\n",
       "\n",
       "    .dataframe thead th {\n",
       "        text-align: right;\n",
       "    }\n",
       "</style>\n",
       "<table border=\"1\" class=\"dataframe\">\n",
       "  <thead>\n",
       "    <tr style=\"text-align: right;\">\n",
       "      <th></th>\n",
       "      <th>Real News</th>\n",
       "      <th>Fake News</th>\n",
       "    </tr>\n",
       "  </thead>\n",
       "  <tbody>\n",
       "    <tr>\n",
       "      <th>0</th>\n",
       "      <td>say</td>\n",
       "      <td>clinton</td>\n",
       "    </tr>\n",
       "    <tr>\n",
       "      <th>1</th>\n",
       "      <td>trump</td>\n",
       "      <td>u</td>\n",
       "    </tr>\n",
       "    <tr>\n",
       "      <th>2</th>\n",
       "      <td>clinton</td>\n",
       "      <td>say</td>\n",
       "    </tr>\n",
       "    <tr>\n",
       "      <th>3</th>\n",
       "      <td>state</td>\n",
       "      <td>trump</td>\n",
       "    </tr>\n",
       "    <tr>\n",
       "      <th>4</th>\n",
       "      <td>republican</td>\n",
       "      <td>people</td>\n",
       "    </tr>\n",
       "    <tr>\n",
       "      <th>5</th>\n",
       "      <td>would</td>\n",
       "      <td>state</td>\n",
       "    </tr>\n",
       "    <tr>\n",
       "      <th>6</th>\n",
       "      <td>one</td>\n",
       "      <td>one</td>\n",
       "    </tr>\n",
       "    <tr>\n",
       "      <th>7</th>\n",
       "      <td>people</td>\n",
       "      <td>would</td>\n",
       "    </tr>\n",
       "    <tr>\n",
       "      <th>8</th>\n",
       "      <td>make</td>\n",
       "      <td>hillary</td>\n",
       "    </tr>\n",
       "    <tr>\n",
       "      <th>9</th>\n",
       "      <td>campaign</td>\n",
       "      <td>make</td>\n",
       "    </tr>\n",
       "    <tr>\n",
       "      <th>10</th>\n",
       "      <td>president</td>\n",
       "      <td>go</td>\n",
       "    </tr>\n",
       "    <tr>\n",
       "      <th>11</th>\n",
       "      <td>go</td>\n",
       "      <td>time</td>\n",
       "    </tr>\n",
       "    <tr>\n",
       "      <th>12</th>\n",
       "      <td>new</td>\n",
       "      <td>year</td>\n",
       "    </tr>\n",
       "    <tr>\n",
       "      <th>13</th>\n",
       "      <td>u</td>\n",
       "      <td>american</td>\n",
       "    </tr>\n",
       "    <tr>\n",
       "      <th>14</th>\n",
       "      <td>obama</td>\n",
       "      <td>get</td>\n",
       "    </tr>\n",
       "  </tbody>\n",
       "</table>\n",
       "</div>"
      ],
      "text/plain": [
       "     Real News Fake News\n",
       "0          say   clinton\n",
       "1        trump         u\n",
       "2      clinton       say\n",
       "3        state     trump\n",
       "4   republican    people\n",
       "5        would     state\n",
       "6          one       one\n",
       "7       people     would\n",
       "8         make   hillary\n",
       "9     campaign      make\n",
       "10   president        go\n",
       "11          go      time\n",
       "12         new      year\n",
       "13           u  american\n",
       "14       obama       get"
      ]
     },
     "execution_count": 12,
     "metadata": {
      "tags": []
     },
     "output_type": "execute_result"
    }
   ],
   "source": [
    "# Fake News\n",
    "fn = ''\n",
    "# Real News\n",
    "rn = ''\n",
    "for i in range(len(df)):\n",
    "    try:\n",
    "        if df.loc[i, 'Label'] == 1:\n",
    "            fn += df.loc[i, 'Text']\n",
    "        elif df.loc[i, 'Label'] == 0:\n",
    "            rn += df.loc[i, 'Text']\n",
    "    except:\n",
    "        pass \n",
    "df_list = [rn, fn]\n",
    "\n",
    "words = []\n",
    "for item in df_list:\n",
    "    words.append(list(cleanwordcounts(item).word.head(15)))\n",
    "df_words = pd.DataFrame(words).T\n",
    "df_words.columns = ['Real News','Fake News']\n",
    "df_words"
   ]
  },
  {
   "cell_type": "markdown",
   "metadata": {
    "colab_type": "text",
    "id": "qlFGN9fSge3g"
   },
   "source": [
    "### 3.2 Word Cloud"
   ]
  },
  {
   "cell_type": "markdown",
   "metadata": {
    "colab_type": "text",
    "id": "u6lmq14Gghv0"
   },
   "source": [
    "Word clouds are a great way to get a visual idea of the most common words from the texts."
   ]
  },
  {
   "cell_type": "code",
   "execution_count": 0,
   "metadata": {
    "colab": {},
    "colab_type": "code",
    "id": "ubX9XvxvggRW"
   },
   "outputs": [],
   "source": [
    "from wordcloud import WordCloud\n",
    "import random\n",
    "#build list of stop words\n",
    "stop_words = stopwords.words('english')\n",
    "#function to pass to color_func to change default wordcloud colors\n",
    "def grey_color_func(word, font_size, position, orientation, random_state=None, **kwargs):\n",
    "    return \"hsl(0, 0%%, %d%%)\" % random.randint(60, 100)\n",
    "       "
   ]
  },
  {
   "cell_type": "code",
   "execution_count": 0,
   "metadata": {
    "colab": {
     "base_uri": "https://localhost:8080/",
     "height": 231
    },
    "colab_type": "code",
    "id": "0drZBXQBotZk",
    "outputId": "be2f7e34-e468-4234-8fec-54c44ca0e96f"
   },
   "outputs": [
    {
     "data": {
      "image/png": "[encoded data removed]",
      "text/plain": [
       "<Figure size 432x288 with 1 Axes>"
      ]
     },
     "metadata": {
      "tags": []
     },
     "output_type": "display_data"
    }
   ],
   "source": [
    "# Generate a word cloud image for fake news from data\n",
    "\n",
    "wordcloud = WordCloud(max_font_size=50).generate(fn)\n",
    "plt.figure()\n",
    "plt.imshow(wordcloud.recolor(color_func=grey_color_func, random_state=3), interpolation=\"bilinear\")\n",
    "plt.axis(\"off\")\n",
    "plt.title(\"Fake News\")\n",
    "# plt.savefig('./Images/realwordcloud.png',format='png')\n",
    "plt.show()"
   ]
  },
  {
   "cell_type": "code",
   "execution_count": 0,
   "metadata": {
    "colab": {
     "base_uri": "https://localhost:8080/",
     "height": 231
    },
    "colab_type": "code",
    "id": "TILjyW7gh5qq",
    "outputId": "4a294bcf-f9bb-4dfd-f982-643b6be018f0"
   },
   "outputs": [
    {
     "data": {
      "image/png": "[encoded data removed]",
      "text/plain": [
       "<Figure size 432x288 with 1 Axes>"
      ]
     },
     "metadata": {
      "tags": []
     },
     "output_type": "display_data"
    }
   ],
   "source": [
    "wordcloud = WordCloud(max_font_size=50).generate(rn)\n",
    "plt.figure()\n",
    "plt.imshow(wordcloud.recolor(color_func=grey_color_func, random_state=3), interpolation=\"bilinear\")\n",
    "plt.axis(\"off\")\n",
    "plt.title(\"Real News\")\n",
    "# plt.savefig('./Images/realwordcloud.png',format='png')\n",
    "plt.show()"
   ]
  },
  {
   "cell_type": "markdown",
   "metadata": {
    "colab_type": "text",
    "id": "PTBpAna9gWyL"
   },
   "source": [
    "## 4 Doc2Vec"
   ]
  },
  {
   "cell_type": "code",
   "execution_count": 0,
   "metadata": {
    "colab": {
     "base_uri": "https://localhost:8080/",
     "height": 237
    },
    "colab_type": "code",
    "id": "OPR3oe8j4WyZ",
    "outputId": "e0d57f2f-52cd-4d19-e013-e5ba3dda8543"
   },
   "outputs": [
    {
     "name": "stderr",
     "output_type": "stream",
     "text": [
      "/usr/local/lib/python3.6/dist-packages/gensim/models/doc2vec.py:566: UserWarning: The parameter `iter` is deprecated, will be removed in 4.0.0, use `epochs` instead.\n",
      "  warnings.warn(\"The parameter `iter` is deprecated, will be removed in 4.0.0, use `epochs` instead.\")\n",
      "/usr/local/lib/python3.6/dist-packages/gensim/models/doc2vec.py:570: UserWarning: The parameter `size` is deprecated, will be removed in 4.0.0, use `vector_size` instead.\n",
      "  warnings.warn(\"The parameter `size` is deprecated, will be removed in 4.0.0, use `vector_size` instead.\")\n",
      "/usr/local/lib/python3.6/dist-packages/ipykernel_launcher.py:6: DeprecationWarning: Call to deprecated `iter` (Attribute will be removed in 4.0.0, use self.epochs instead).\n",
      "  \n",
      "WARNING: Logging before flag parsing goes to stderr.\n",
      "W0823 00:58:04.213409 140316552456064 base_any2vec.py:723] consider setting layer size to a multiple of 4 for greater performance\n",
      "/usr/local/lib/python3.6/dist-packages/ipykernel_launcher.py:11: DeprecationWarning: Call to deprecated `iter` (Attribute will be removed in 4.0.0, use self.epochs instead).\n",
      "  # This is added back by InteractiveShellApp.init_path()\n",
      "W0823 00:58:06.819779 140316552456064 base_any2vec.py:1386] under 10 jobs per worker: consider setting a smaller `batch_words' for smoother alpha decay\n"
     ]
    }
   ],
   "source": [
    "from gensim.models import Doc2Vec\n",
    "\n",
    "Text_INPUT_DIM = 300  # set the size of each text vector is 300\n",
    "text_model = Doc2Vec(min_count=1, window=5, size=Text_INPUT_DIM, sample=1e-4, negative=5, workers=4, iter=5,seed=1)\n",
    "text_model.build_vocab(sentences)\n",
    "text_model.train(sentences, total_examples=text_model.corpus_count, epochs=text_model.iter)\n",
    "\n",
    "Title_INPUT_DIM = 50  # set the size of each tite vector is 300\n",
    "title_model = Doc2Vec(min_count=1, window=5, size=Title_INPUT_DIM, sample=1e-4, negative=5, workers=4, iter=5,seed=1)\n",
    "title_model.build_vocab(sentences_title)\n",
    "title_model.train(sentences_title, total_examples=title_model.corpus_count, epochs=text_model.iter)"
   ]
  },
  {
   "cell_type": "code",
   "execution_count": 0,
   "metadata": {
    "colab": {
     "base_uri": "https://localhost:8080/",
     "height": 1000
    },
    "colab_type": "code",
    "id": "GHcaODvt4WwM",
    "outputId": "04d73fbe-bf5c-44fd-a9e4-e737f182706b"
   },
   "outputs": [
    {
     "data": {
      "text/plain": [
       "array([ 2.04822849e-02, -6.82271570e-02,  1.48969814e-01, -7.86701441e-02,\n",
       "        1.70537710e-01, -9.06597823e-02, -1.03311524e-01,  2.03941628e-01,\n",
       "        4.19107676e-02,  1.97470590e-01, -1.06102720e-01,  1.38447210e-01,\n",
       "       -4.97925542e-02, -3.67990993e-02,  2.91698650e-02, -2.43680272e-02,\n",
       "        2.67495103e-02,  1.43687427e-01,  8.00967589e-03, -3.78799476e-02,\n",
       "       -5.67715839e-02, -4.96544689e-02,  9.97163057e-02,  3.47514078e-02,\n",
       "        1.24033235e-01, -6.84320480e-02, -4.65464219e-02,  3.82855977e-03,\n",
       "       -2.62303464e-03,  2.30790943e-01,  2.87836671e-01, -9.46167633e-02,\n",
       "        1.04760006e-01,  2.17583552e-01,  2.73892581e-02, -8.21974128e-02,\n",
       "        1.61722183e-01,  1.37906611e-01,  5.94055839e-03,  8.14012960e-02,\n",
       "       -7.05557838e-02,  1.44592643e-01,  4.46882434e-02, -9.07516703e-02,\n",
       "       -1.12410411e-01, -5.34906946e-02, -2.81783342e-01, -1.29364938e-01,\n",
       "       -2.54365541e-02, -9.31784436e-02, -1.15819931e-01,  8.74311551e-02,\n",
       "        2.02458739e-01, -1.04515947e-01,  1.22204557e-01,  7.27015659e-02,\n",
       "        2.76887976e-02, -2.28081167e-01,  7.59451017e-02, -4.61483039e-02,\n",
       "        1.25739768e-01,  1.18685901e-01,  5.44607006e-02,  1.02594262e-02,\n",
       "       -2.34065913e-02, -8.97130445e-02,  2.05808505e-01, -1.16933398e-01,\n",
       "        2.73068305e-02,  2.37067118e-02, -3.52079943e-02,  8.47154856e-03,\n",
       "       -2.59158313e-01,  4.79409769e-02, -1.54407531e-01,  1.17833037e-02,\n",
       "        1.17434263e-01,  8.56687352e-02, -1.44535795e-01,  5.59551232e-02,\n",
       "       -4.62666713e-02,  4.51291725e-02, -5.77637069e-02, -1.11491784e-01,\n",
       "       -1.16393365e-01,  1.23070441e-01, -9.39227361e-03,  7.37492219e-02,\n",
       "       -7.05317333e-02, -7.67632872e-02,  1.25400960e-01, -7.06638694e-02,\n",
       "        1.49466321e-01,  1.10799391e-02, -1.93162620e-01, -3.76373231e-02,\n",
       "       -1.63691670e-01,  1.23804323e-01, -1.36564756e-02,  7.14117736e-02,\n",
       "       -4.54304405e-02,  6.71045436e-03, -2.44439077e-02,  1.19932406e-01,\n",
       "        1.12210646e-01,  9.22722556e-03, -1.39796302e-01, -1.62909344e-01,\n",
       "        1.60993025e-01, -1.18209414e-01,  1.29253969e-01,  1.65677667e-02,\n",
       "       -2.20929801e-01,  1.71576336e-01, -1.92720145e-02,  2.14981437e-02,\n",
       "        4.97215129e-02,  2.70682611e-02,  1.25830606e-01, -6.57251403e-02,\n",
       "       -7.71005005e-02, -8.20821971e-02, -6.81967363e-02, -2.26056606e-01,\n",
       "        7.12670311e-02, -1.46826699e-01,  6.35402203e-02,  4.85944673e-02,\n",
       "        4.32812124e-02, -4.57065925e-02,  3.17394957e-02,  7.62423426e-02,\n",
       "       -8.57505947e-03,  2.51063734e-01, -8.73947144e-02, -2.24105101e-02,\n",
       "        7.66415596e-02, -8.48061778e-03, -6.62030140e-03, -9.91484448e-02,\n",
       "       -7.16420040e-02,  5.09884953e-02,  3.71808149e-02,  5.25759719e-02,\n",
       "        4.29268591e-02,  6.68680714e-03, -1.06102219e-02, -1.60346955e-01,\n",
       "        1.65880233e-01,  6.02480620e-02, -8.12072307e-03, -2.41396707e-02,\n",
       "       -1.09982722e-01, -1.06911145e-01, -9.70688835e-02,  6.65766895e-02,\n",
       "       -5.50979935e-02, -2.06004716e-02,  8.50573182e-02, -8.23209956e-02,\n",
       "        3.83019969e-02, -2.20692856e-03, -1.23768121e-01, -1.23845957e-01,\n",
       "        1.48117289e-01, -6.04780577e-02, -1.52897649e-02,  2.90736165e-02,\n",
       "       -1.28104165e-01,  2.60588229e-02,  1.36369452e-01,  1.52241409e-01,\n",
       "       -4.22098413e-02, -2.51969039e-01, -1.11903846e-01, -1.96136147e-01,\n",
       "        7.33253360e-02, -1.42057529e-02,  1.99094834e-03, -8.50291029e-02,\n",
       "       -2.67251246e-02,  8.43784437e-02,  1.94106445e-01, -1.10392645e-01,\n",
       "        3.86549276e-03,  9.53726247e-02, -8.17367584e-02, -4.15068306e-02,\n",
       "        6.26956299e-02, -9.95258689e-02, -2.01074317e-01, -3.88885918e-03,\n",
       "       -8.77974182e-02,  3.12490202e-02,  7.83435926e-02,  2.14490667e-02,\n",
       "        2.95581855e-02,  1.38397679e-01, -5.69908470e-02, -1.93931505e-01,\n",
       "        1.26929805e-01,  1.07026726e-01,  1.14832215e-01, -1.78930759e-01,\n",
       "       -2.46288218e-02,  2.23826677e-01,  8.91815946e-02,  1.44477174e-01,\n",
       "       -2.51266677e-02,  1.15790159e-01,  2.13657506e-02,  5.07125026e-03,\n",
       "       -1.66179892e-02, -5.30728810e-02,  2.91325282e-02,  3.74953747e-02,\n",
       "       -7.94474036e-02,  4.61899303e-02,  4.61797006e-02,  1.04982696e-01,\n",
       "        2.22142324e-01, -7.71726146e-02, -1.23923413e-01,  2.43990757e-02,\n",
       "       -1.05190381e-01,  4.25856151e-02, -1.79627642e-01, -9.36410856e-03,\n",
       "       -5.79400957e-02, -2.88329683e-02, -5.04720323e-02, -4.58090976e-02,\n",
       "        1.04330093e-01,  1.20913893e-01,  7.24630505e-02, -3.64491232e-02,\n",
       "        2.74111450e-01,  4.91156206e-02, -6.16620593e-02,  1.08216302e-02,\n",
       "        1.86130721e-02, -3.03309746e-02, -9.95648950e-02,  4.52948697e-02,\n",
       "       -1.02975100e-01,  5.89380972e-02, -1.35452375e-01, -1.00883901e-01,\n",
       "        1.44535601e-01,  7.96571150e-02, -9.67511088e-02, -6.94529489e-02,\n",
       "       -2.55731698e-02,  4.21420613e-04, -3.81502360e-02,  4.69451472e-02,\n",
       "        8.12458694e-02, -2.20993627e-03, -3.52272280e-02, -5.42857461e-02,\n",
       "       -4.05123224e-03, -1.71346813e-02,  3.70432809e-02, -9.56262201e-02,\n",
       "        2.35041566e-02,  1.57609344e-01,  3.97987179e-02, -4.53008935e-02,\n",
       "        3.30273248e-02,  4.69985344e-02, -5.62260337e-02, -1.81065295e-02,\n",
       "       -1.17480107e-01,  1.43579349e-01,  1.14857763e-01, -7.50011206e-02,\n",
       "        1.25623301e-01,  3.86068374e-02, -5.68095520e-02,  2.53488738e-02,\n",
       "        3.79225425e-02,  1.30707607e-01, -1.12150945e-01, -1.43175479e-02,\n",
       "        1.58135921e-01,  4.31044623e-02, -4.87009436e-02,  1.11408472e-01,\n",
       "        1.44353807e-01, -7.58633167e-02,  5.67813814e-02, -5.82350008e-02,\n",
       "        3.39370996e-01,  1.23217858e-01, -9.84634161e-02,  7.08907172e-02,\n",
       "       -2.89562821e-01,  5.27319871e-02,  2.43453339e-01, -3.68936174e-02,\n",
       "       -1.02072163e-03, -2.46686838e-03,  4.82175127e-03,  7.54684815e-03,\n",
       "        5.76692168e-03, -2.98622670e-03,  2.71630054e-03, -3.78201203e-03,\n",
       "       -9.26923659e-03,  3.73848488e-05,  2.93955230e-03,  8.90063122e-03,\n",
       "       -3.60601844e-04,  9.61787812e-03, -7.71172624e-03,  3.00679496e-03,\n",
       "        6.44290121e-03, -1.97652448e-03,  7.21055036e-03, -2.96184374e-03,\n",
       "        3.53496405e-04, -9.35050752e-03,  1.09672628e-03,  8.83536134e-03,\n",
       "        7.35700876e-03,  4.06519324e-03,  8.09877005e-04, -3.07929865e-03,\n",
       "        3.73389921e-03, -1.09875284e-03,  5.18276310e-03, -5.95553964e-03,\n",
       "        7.20248604e-03, -2.31075962e-03, -9.09898896e-03, -3.73298943e-04,\n",
       "        9.08518676e-03,  4.37825825e-03,  3.88711924e-03, -3.77876475e-03,\n",
       "        9.40487534e-03, -2.82863853e-03,  7.04224408e-03,  1.49245287e-04,\n",
       "       -9.33376979e-03,  5.54196164e-03, -9.55224317e-03,  7.90557638e-03,\n",
       "        5.46245556e-03,  7.75320828e-03])"
      ]
     },
     "execution_count": 17,
     "metadata": {
      "tags": []
     },
     "output_type": "execute_result"
    }
   ],
   "source": [
    "X_title = np.zeros((data.shape[0], Title_INPUT_DIM))\n",
    "i = 0\n",
    "for i in range(data.shape[0]):\n",
    "    X_title[i] = title_model.docvecs[i]\n",
    "\n",
    "X = np.zeros((data.shape[0], Text_INPUT_DIM+Title_INPUT_DIM))\n",
    "i = 0\n",
    "for i in range(data.shape[0]):\n",
    "    temp1 = text_model.docvecs[i].reshape((Text_INPUT_DIM,)).tolist() \n",
    "    temp2 = title_model.docvecs[i].reshape((Title_INPUT_DIM,)).tolist() \n",
    "    temp1.extend(temp2)\n",
    "    X[i] = np.array(temp1)\n",
    "\n",
    "X[0]  # show the first text's vector"
   ]
  },
  {
   "cell_type": "code",
   "execution_count": 0,
   "metadata": {
    "colab": {},
    "colab_type": "code",
    "id": "0IkDXdMv4Wqa"
   },
   "outputs": [],
   "source": [
    "from sklearn.model_selection import train_test_split\n",
    "\n",
    "X = pd.DataFrame(X)\n",
    "y = pd.DataFrame(y)\n",
    "# X.columns = ['x'+str(i) for i in range(1, Text_INPUT_DIM+1)]\n",
    "y.columns = ['label']\n",
    "for i in range(len(y)):\n",
    "    if y.loc[i, 'label'] == \"REAL\":\n",
    "        y.loc[i, 'label'] = 0\n",
    "    elif y.loc[i, 'label'] == \"FAKE\":\n",
    "        y.loc[i, 'label'] = 1\n",
    "y = y.astype('int')"
   ]
  },
  {
   "cell_type": "markdown",
   "metadata": {
    "colab_type": "text",
    "id": "b7nUWKHiDVFk"
   },
   "source": [
    "### SMOTE (balance)"
   ]
  },
  {
   "cell_type": "code",
   "execution_count": 0,
   "metadata": {
    "colab": {
     "base_uri": "https://localhost:8080/",
     "height": 110
    },
    "colab_type": "code",
    "id": "4pXHvzRPCSO-",
    "outputId": "deb9c795-9c1d-436e-d544-9d92c2c33a2c"
   },
   "outputs": [
    {
     "name": "stderr",
     "output_type": "stream",
     "text": [
      "/usr/local/lib/python3.6/dist-packages/sklearn/externals/six.py:31: DeprecationWarning: The module is deprecated in version 0.21 and will be removed in version 0.23 since we've dropped support for Python 2.7. Please rely on the official version of six (https://pypi.org/project/six/).\n",
      "  \"(https://pypi.org/project/six/).\", DeprecationWarning)\n",
      "/usr/local/lib/python3.6/dist-packages/sklearn/utils/validation.py:724: DataConversionWarning: A column-vector y was passed when a 1d array was expected. Please change the shape of y to (n_samples, ), for example using ravel().\n",
      "  y = column_or_1d(y, warn=True)\n"
     ]
    }
   ],
   "source": [
    "from imblearn.over_sampling import SMOTE\n",
    "from sklearn.model_selection import train_test_split\n",
    "\n",
    "X_train, X_test, y_train, y_test = train_test_split(X, y, test_size=0.3, random_state=0)\n",
    "sm = SMOTE(random_state=2)\n",
    "X_train, y_train = sm.fit_sample(X_train, y_train)\n",
    "X_train = pd.DataFrame(X_train)\n",
    "y_train = pd.DataFrame(y_train)"
   ]
  },
  {
   "cell_type": "code",
   "execution_count": 0,
   "metadata": {
    "colab": {
     "base_uri": "https://localhost:8080/",
     "height": 90
    },
    "colab_type": "code",
    "id": "aX3fv3ubMnGr",
    "outputId": "956d661d-cfb6-4775-fd10-c05c6a8f560c"
   },
   "outputs": [
    {
     "name": "stdout",
     "output_type": "stream",
     "text": [
      "y_train Label = 0(Real News):  4462\n",
      "y_train Label = 1(Fake News):  4462\n",
      "y_test Label = 0(Real News):  1901\n",
      "y_test Label = 1(Fake News):  1901\n"
     ]
    }
   ],
   "source": [
    "print('y_train Label = 0(Real News): ', len(y_train==0))\n",
    "print('y_train Label = 1(Fake News): ', len(y_train==1))\n",
    "print('y_test Label = 0(Real News): ', len(y_test==0))\n",
    "print('y_test Label = 1(Fake News): ', len(y_test==1))"
   ]
  },
  {
   "cell_type": "code",
   "execution_count": 0,
   "metadata": {
    "colab": {
     "base_uri": "https://localhost:8080/",
     "height": 255
    },
    "colab_type": "code",
    "id": "jpq-YuCE4Ws-",
    "outputId": "14254b89-28c9-4894-bbdf-eafd6c0b4b69"
   },
   "outputs": [
    {
     "data": {
      "text/html": [
       "<div>\n",
       "<style scoped>\n",
       "    .dataframe tbody tr th:only-of-type {\n",
       "        vertical-align: middle;\n",
       "    }\n",
       "\n",
       "    .dataframe tbody tr th {\n",
       "        vertical-align: top;\n",
       "    }\n",
       "\n",
       "    .dataframe thead th {\n",
       "        text-align: right;\n",
       "    }\n",
       "</style>\n",
       "<table border=\"1\" class=\"dataframe\">\n",
       "  <thead>\n",
       "    <tr style=\"text-align: right;\">\n",
       "      <th></th>\n",
       "      <th>0</th>\n",
       "      <th>1</th>\n",
       "      <th>2</th>\n",
       "      <th>3</th>\n",
       "      <th>4</th>\n",
       "      <th>5</th>\n",
       "      <th>6</th>\n",
       "      <th>7</th>\n",
       "      <th>8</th>\n",
       "      <th>9</th>\n",
       "      <th>10</th>\n",
       "      <th>11</th>\n",
       "      <th>12</th>\n",
       "      <th>13</th>\n",
       "      <th>14</th>\n",
       "      <th>15</th>\n",
       "      <th>16</th>\n",
       "      <th>17</th>\n",
       "      <th>18</th>\n",
       "      <th>19</th>\n",
       "      <th>20</th>\n",
       "      <th>21</th>\n",
       "      <th>22</th>\n",
       "      <th>23</th>\n",
       "      <th>24</th>\n",
       "      <th>25</th>\n",
       "      <th>26</th>\n",
       "      <th>27</th>\n",
       "      <th>28</th>\n",
       "      <th>29</th>\n",
       "      <th>30</th>\n",
       "      <th>31</th>\n",
       "      <th>32</th>\n",
       "      <th>33</th>\n",
       "      <th>34</th>\n",
       "      <th>35</th>\n",
       "      <th>36</th>\n",
       "      <th>37</th>\n",
       "      <th>38</th>\n",
       "      <th>39</th>\n",
       "      <th>...</th>\n",
       "      <th>310</th>\n",
       "      <th>311</th>\n",
       "      <th>312</th>\n",
       "      <th>313</th>\n",
       "      <th>314</th>\n",
       "      <th>315</th>\n",
       "      <th>316</th>\n",
       "      <th>317</th>\n",
       "      <th>318</th>\n",
       "      <th>319</th>\n",
       "      <th>320</th>\n",
       "      <th>321</th>\n",
       "      <th>322</th>\n",
       "      <th>323</th>\n",
       "      <th>324</th>\n",
       "      <th>325</th>\n",
       "      <th>326</th>\n",
       "      <th>327</th>\n",
       "      <th>328</th>\n",
       "      <th>329</th>\n",
       "      <th>330</th>\n",
       "      <th>331</th>\n",
       "      <th>332</th>\n",
       "      <th>333</th>\n",
       "      <th>334</th>\n",
       "      <th>335</th>\n",
       "      <th>336</th>\n",
       "      <th>337</th>\n",
       "      <th>338</th>\n",
       "      <th>339</th>\n",
       "      <th>340</th>\n",
       "      <th>341</th>\n",
       "      <th>342</th>\n",
       "      <th>343</th>\n",
       "      <th>344</th>\n",
       "      <th>345</th>\n",
       "      <th>346</th>\n",
       "      <th>347</th>\n",
       "      <th>348</th>\n",
       "      <th>349</th>\n",
       "    </tr>\n",
       "  </thead>\n",
       "  <tbody>\n",
       "    <tr>\n",
       "      <th>0</th>\n",
       "      <td>-0.149945</td>\n",
       "      <td>0.022867</td>\n",
       "      <td>0.098031</td>\n",
       "      <td>-0.007239</td>\n",
       "      <td>0.162430</td>\n",
       "      <td>-0.049396</td>\n",
       "      <td>-0.152428</td>\n",
       "      <td>-0.249303</td>\n",
       "      <td>0.008198</td>\n",
       "      <td>0.097252</td>\n",
       "      <td>-0.015162</td>\n",
       "      <td>0.034045</td>\n",
       "      <td>0.028557</td>\n",
       "      <td>0.023083</td>\n",
       "      <td>-0.034108</td>\n",
       "      <td>0.051305</td>\n",
       "      <td>-0.048769</td>\n",
       "      <td>0.022129</td>\n",
       "      <td>0.143556</td>\n",
       "      <td>-0.020248</td>\n",
       "      <td>-0.008261</td>\n",
       "      <td>0.156792</td>\n",
       "      <td>-0.006043</td>\n",
       "      <td>0.058991</td>\n",
       "      <td>0.052380</td>\n",
       "      <td>0.118321</td>\n",
       "      <td>0.040507</td>\n",
       "      <td>-0.082866</td>\n",
       "      <td>0.144988</td>\n",
       "      <td>0.059548</td>\n",
       "      <td>0.045849</td>\n",
       "      <td>-0.032335</td>\n",
       "      <td>0.009681</td>\n",
       "      <td>0.048459</td>\n",
       "      <td>-0.055250</td>\n",
       "      <td>0.087635</td>\n",
       "      <td>0.045566</td>\n",
       "      <td>0.091759</td>\n",
       "      <td>-0.009227</td>\n",
       "      <td>-0.008743</td>\n",
       "      <td>...</td>\n",
       "      <td>-0.004133</td>\n",
       "      <td>-0.009369</td>\n",
       "      <td>-7.583581e-07</td>\n",
       "      <td>0.005496</td>\n",
       "      <td>0.005194</td>\n",
       "      <td>-0.000593</td>\n",
       "      <td>0.008305</td>\n",
       "      <td>0.000143</td>\n",
       "      <td>-0.001835</td>\n",
       "      <td>-0.000451</td>\n",
       "      <td>0.000945</td>\n",
       "      <td>-0.004029</td>\n",
       "      <td>-0.000203</td>\n",
       "      <td>0.000081</td>\n",
       "      <td>-0.002355</td>\n",
       "      <td>0.003384</td>\n",
       "      <td>0.003523</td>\n",
       "      <td>0.004472</td>\n",
       "      <td>-0.000820</td>\n",
       "      <td>0.001638</td>\n",
       "      <td>0.003123</td>\n",
       "      <td>0.002349</td>\n",
       "      <td>-0.005499</td>\n",
       "      <td>-0.001278</td>\n",
       "      <td>0.004242</td>\n",
       "      <td>-0.001371</td>\n",
       "      <td>0.009263</td>\n",
       "      <td>0.009818</td>\n",
       "      <td>0.003580</td>\n",
       "      <td>-0.003061</td>\n",
       "      <td>0.002437</td>\n",
       "      <td>0.006598</td>\n",
       "      <td>0.005314</td>\n",
       "      <td>0.009962</td>\n",
       "      <td>0.001208</td>\n",
       "      <td>0.006203</td>\n",
       "      <td>-0.001915</td>\n",
       "      <td>-0.008438</td>\n",
       "      <td>-0.006618</td>\n",
       "      <td>-0.001297</td>\n",
       "    </tr>\n",
       "    <tr>\n",
       "      <th>1</th>\n",
       "      <td>-0.116369</td>\n",
       "      <td>0.006651</td>\n",
       "      <td>-0.018087</td>\n",
       "      <td>-0.174071</td>\n",
       "      <td>0.177283</td>\n",
       "      <td>-0.102284</td>\n",
       "      <td>-0.035866</td>\n",
       "      <td>0.003507</td>\n",
       "      <td>-0.098329</td>\n",
       "      <td>0.091582</td>\n",
       "      <td>-0.054332</td>\n",
       "      <td>0.048034</td>\n",
       "      <td>0.112439</td>\n",
       "      <td>0.095459</td>\n",
       "      <td>0.080663</td>\n",
       "      <td>-0.161543</td>\n",
       "      <td>-0.031001</td>\n",
       "      <td>0.159703</td>\n",
       "      <td>-0.020035</td>\n",
       "      <td>-0.074384</td>\n",
       "      <td>-0.046565</td>\n",
       "      <td>-0.006423</td>\n",
       "      <td>0.000461</td>\n",
       "      <td>-0.021289</td>\n",
       "      <td>0.095721</td>\n",
       "      <td>0.044864</td>\n",
       "      <td>-0.033358</td>\n",
       "      <td>-0.070328</td>\n",
       "      <td>0.150050</td>\n",
       "      <td>0.198109</td>\n",
       "      <td>0.067813</td>\n",
       "      <td>0.007618</td>\n",
       "      <td>0.098939</td>\n",
       "      <td>0.167595</td>\n",
       "      <td>-0.023129</td>\n",
       "      <td>0.032134</td>\n",
       "      <td>0.188710</td>\n",
       "      <td>0.115189</td>\n",
       "      <td>-0.118563</td>\n",
       "      <td>0.115116</td>\n",
       "      <td>...</td>\n",
       "      <td>-0.001336</td>\n",
       "      <td>-0.005161</td>\n",
       "      <td>6.867660e-04</td>\n",
       "      <td>0.009570</td>\n",
       "      <td>0.006032</td>\n",
       "      <td>-0.008022</td>\n",
       "      <td>-0.006265</td>\n",
       "      <td>0.005138</td>\n",
       "      <td>-0.000810</td>\n",
       "      <td>0.007635</td>\n",
       "      <td>0.009882</td>\n",
       "      <td>0.008382</td>\n",
       "      <td>0.000179</td>\n",
       "      <td>-0.001014</td>\n",
       "      <td>-0.005225</td>\n",
       "      <td>-0.007722</td>\n",
       "      <td>-0.007995</td>\n",
       "      <td>0.007006</td>\n",
       "      <td>-0.004725</td>\n",
       "      <td>-0.005790</td>\n",
       "      <td>-0.001413</td>\n",
       "      <td>0.007191</td>\n",
       "      <td>0.001688</td>\n",
       "      <td>-0.004167</td>\n",
       "      <td>0.006970</td>\n",
       "      <td>-0.004108</td>\n",
       "      <td>0.002299</td>\n",
       "      <td>-0.005868</td>\n",
       "      <td>0.004064</td>\n",
       "      <td>-0.001249</td>\n",
       "      <td>0.002494</td>\n",
       "      <td>0.007813</td>\n",
       "      <td>0.002688</td>\n",
       "      <td>-0.009611</td>\n",
       "      <td>-0.006632</td>\n",
       "      <td>-0.007025</td>\n",
       "      <td>-0.001111</td>\n",
       "      <td>-0.007020</td>\n",
       "      <td>-0.005620</td>\n",
       "      <td>-0.002157</td>\n",
       "    </tr>\n",
       "    <tr>\n",
       "      <th>2</th>\n",
       "      <td>0.024492</td>\n",
       "      <td>0.009850</td>\n",
       "      <td>-0.005791</td>\n",
       "      <td>0.055126</td>\n",
       "      <td>0.032525</td>\n",
       "      <td>-0.077504</td>\n",
       "      <td>-0.088401</td>\n",
       "      <td>-0.112554</td>\n",
       "      <td>-0.014622</td>\n",
       "      <td>0.002263</td>\n",
       "      <td>-0.027756</td>\n",
       "      <td>0.013302</td>\n",
       "      <td>-0.023528</td>\n",
       "      <td>-0.060983</td>\n",
       "      <td>-0.005815</td>\n",
       "      <td>-0.065357</td>\n",
       "      <td>0.015889</td>\n",
       "      <td>-0.021168</td>\n",
       "      <td>-0.016058</td>\n",
       "      <td>-0.074120</td>\n",
       "      <td>0.020431</td>\n",
       "      <td>0.060559</td>\n",
       "      <td>0.067433</td>\n",
       "      <td>-0.061425</td>\n",
       "      <td>0.060301</td>\n",
       "      <td>0.009936</td>\n",
       "      <td>0.052774</td>\n",
       "      <td>-0.037977</td>\n",
       "      <td>0.068955</td>\n",
       "      <td>0.085549</td>\n",
       "      <td>0.136540</td>\n",
       "      <td>-0.085078</td>\n",
       "      <td>0.086595</td>\n",
       "      <td>-0.046249</td>\n",
       "      <td>-0.009726</td>\n",
       "      <td>-0.025954</td>\n",
       "      <td>0.049938</td>\n",
       "      <td>0.025271</td>\n",
       "      <td>-0.092991</td>\n",
       "      <td>0.029080</td>\n",
       "      <td>...</td>\n",
       "      <td>-0.002060</td>\n",
       "      <td>0.009970</td>\n",
       "      <td>6.782608e-03</td>\n",
       "      <td>0.009806</td>\n",
       "      <td>-0.006413</td>\n",
       "      <td>0.004755</td>\n",
       "      <td>0.000385</td>\n",
       "      <td>-0.007929</td>\n",
       "      <td>0.006857</td>\n",
       "      <td>0.005050</td>\n",
       "      <td>0.004957</td>\n",
       "      <td>-0.004614</td>\n",
       "      <td>0.010081</td>\n",
       "      <td>-0.005250</td>\n",
       "      <td>0.003510</td>\n",
       "      <td>-0.000465</td>\n",
       "      <td>0.001871</td>\n",
       "      <td>0.002774</td>\n",
       "      <td>-0.000833</td>\n",
       "      <td>-0.005986</td>\n",
       "      <td>-0.009175</td>\n",
       "      <td>-0.005170</td>\n",
       "      <td>0.007661</td>\n",
       "      <td>-0.009806</td>\n",
       "      <td>-0.008291</td>\n",
       "      <td>-0.009924</td>\n",
       "      <td>0.005976</td>\n",
       "      <td>-0.009312</td>\n",
       "      <td>-0.003400</td>\n",
       "      <td>-0.009032</td>\n",
       "      <td>-0.007966</td>\n",
       "      <td>-0.002465</td>\n",
       "      <td>-0.008380</td>\n",
       "      <td>0.003260</td>\n",
       "      <td>-0.005954</td>\n",
       "      <td>0.005142</td>\n",
       "      <td>0.007315</td>\n",
       "      <td>0.000076</td>\n",
       "      <td>0.009088</td>\n",
       "      <td>0.001771</td>\n",
       "    </tr>\n",
       "    <tr>\n",
       "      <th>3</th>\n",
       "      <td>-0.037377</td>\n",
       "      <td>-0.084072</td>\n",
       "      <td>0.147307</td>\n",
       "      <td>0.017071</td>\n",
       "      <td>0.146473</td>\n",
       "      <td>-0.174430</td>\n",
       "      <td>-0.139063</td>\n",
       "      <td>-0.046950</td>\n",
       "      <td>-0.024222</td>\n",
       "      <td>0.008933</td>\n",
       "      <td>-0.091470</td>\n",
       "      <td>0.061530</td>\n",
       "      <td>-0.095000</td>\n",
       "      <td>-0.155230</td>\n",
       "      <td>0.051775</td>\n",
       "      <td>-0.107691</td>\n",
       "      <td>-0.038158</td>\n",
       "      <td>0.032186</td>\n",
       "      <td>0.019170</td>\n",
       "      <td>-0.139707</td>\n",
       "      <td>-0.030251</td>\n",
       "      <td>0.098692</td>\n",
       "      <td>0.081382</td>\n",
       "      <td>0.006992</td>\n",
       "      <td>0.101337</td>\n",
       "      <td>0.074670</td>\n",
       "      <td>0.000027</td>\n",
       "      <td>0.012097</td>\n",
       "      <td>0.016138</td>\n",
       "      <td>0.070736</td>\n",
       "      <td>0.200477</td>\n",
       "      <td>-0.141668</td>\n",
       "      <td>0.094250</td>\n",
       "      <td>-0.049478</td>\n",
       "      <td>-0.002645</td>\n",
       "      <td>-0.044961</td>\n",
       "      <td>0.075804</td>\n",
       "      <td>0.107674</td>\n",
       "      <td>-0.074481</td>\n",
       "      <td>0.020087</td>\n",
       "      <td>...</td>\n",
       "      <td>-0.000268</td>\n",
       "      <td>-0.004760</td>\n",
       "      <td>-9.064163e-03</td>\n",
       "      <td>-0.009504</td>\n",
       "      <td>-0.003562</td>\n",
       "      <td>-0.000187</td>\n",
       "      <td>0.003941</td>\n",
       "      <td>0.003039</td>\n",
       "      <td>0.000863</td>\n",
       "      <td>-0.003012</td>\n",
       "      <td>0.004373</td>\n",
       "      <td>-0.002164</td>\n",
       "      <td>-0.008579</td>\n",
       "      <td>-0.002340</td>\n",
       "      <td>0.008752</td>\n",
       "      <td>0.004287</td>\n",
       "      <td>0.001200</td>\n",
       "      <td>0.003699</td>\n",
       "      <td>-0.001200</td>\n",
       "      <td>0.003290</td>\n",
       "      <td>-0.005247</td>\n",
       "      <td>0.005950</td>\n",
       "      <td>-0.000135</td>\n",
       "      <td>-0.009881</td>\n",
       "      <td>-0.005630</td>\n",
       "      <td>0.005321</td>\n",
       "      <td>-0.006748</td>\n",
       "      <td>0.004123</td>\n",
       "      <td>0.002031</td>\n",
       "      <td>-0.000103</td>\n",
       "      <td>0.006470</td>\n",
       "      <td>0.005014</td>\n",
       "      <td>-0.008493</td>\n",
       "      <td>0.000515</td>\n",
       "      <td>-0.007646</td>\n",
       "      <td>-0.008884</td>\n",
       "      <td>-0.007341</td>\n",
       "      <td>0.008776</td>\n",
       "      <td>0.000437</td>\n",
       "      <td>0.008244</td>\n",
       "    </tr>\n",
       "    <tr>\n",
       "      <th>4</th>\n",
       "      <td>-0.019384</td>\n",
       "      <td>0.011451</td>\n",
       "      <td>-0.005012</td>\n",
       "      <td>-0.045487</td>\n",
       "      <td>0.055759</td>\n",
       "      <td>-0.020668</td>\n",
       "      <td>-0.039114</td>\n",
       "      <td>0.005318</td>\n",
       "      <td>-0.024695</td>\n",
       "      <td>0.026631</td>\n",
       "      <td>-0.011015</td>\n",
       "      <td>0.024645</td>\n",
       "      <td>0.032054</td>\n",
       "      <td>0.020860</td>\n",
       "      <td>0.011561</td>\n",
       "      <td>-0.063868</td>\n",
       "      <td>0.008223</td>\n",
       "      <td>0.057417</td>\n",
       "      <td>0.001643</td>\n",
       "      <td>-0.027027</td>\n",
       "      <td>-0.003317</td>\n",
       "      <td>-0.014457</td>\n",
       "      <td>0.020963</td>\n",
       "      <td>-0.010188</td>\n",
       "      <td>0.040317</td>\n",
       "      <td>-0.017721</td>\n",
       "      <td>0.010099</td>\n",
       "      <td>-0.024101</td>\n",
       "      <td>0.023776</td>\n",
       "      <td>0.059280</td>\n",
       "      <td>0.049354</td>\n",
       "      <td>-0.009646</td>\n",
       "      <td>0.011461</td>\n",
       "      <td>0.067936</td>\n",
       "      <td>0.005822</td>\n",
       "      <td>-0.005524</td>\n",
       "      <td>0.051404</td>\n",
       "      <td>0.030159</td>\n",
       "      <td>-0.022151</td>\n",
       "      <td>0.032649</td>\n",
       "      <td>...</td>\n",
       "      <td>-0.008950</td>\n",
       "      <td>0.007934</td>\n",
       "      <td>3.099974e-03</td>\n",
       "      <td>-0.002551</td>\n",
       "      <td>0.005575</td>\n",
       "      <td>0.007349</td>\n",
       "      <td>0.005644</td>\n",
       "      <td>0.006853</td>\n",
       "      <td>-0.000268</td>\n",
       "      <td>-0.008659</td>\n",
       "      <td>-0.007124</td>\n",
       "      <td>-0.003818</td>\n",
       "      <td>0.004987</td>\n",
       "      <td>-0.000135</td>\n",
       "      <td>-0.004739</td>\n",
       "      <td>-0.005247</td>\n",
       "      <td>0.001133</td>\n",
       "      <td>0.008443</td>\n",
       "      <td>0.000632</td>\n",
       "      <td>0.004166</td>\n",
       "      <td>0.008009</td>\n",
       "      <td>-0.007224</td>\n",
       "      <td>-0.008841</td>\n",
       "      <td>-0.008658</td>\n",
       "      <td>-0.005701</td>\n",
       "      <td>0.009477</td>\n",
       "      <td>0.006005</td>\n",
       "      <td>0.009762</td>\n",
       "      <td>-0.001082</td>\n",
       "      <td>-0.009829</td>\n",
       "      <td>-0.002591</td>\n",
       "      <td>0.006733</td>\n",
       "      <td>-0.006214</td>\n",
       "      <td>-0.004936</td>\n",
       "      <td>0.004065</td>\n",
       "      <td>0.000701</td>\n",
       "      <td>-0.007201</td>\n",
       "      <td>0.008340</td>\n",
       "      <td>-0.006911</td>\n",
       "      <td>0.003562</td>\n",
       "    </tr>\n",
       "  </tbody>\n",
       "</table>\n",
       "<p>5 rows × 350 columns</p>\n",
       "</div>"
      ],
      "text/plain": [
       "        0         1         2    ...       347       348       349\n",
       "0 -0.149945  0.022867  0.098031  ... -0.008438 -0.006618 -0.001297\n",
       "1 -0.116369  0.006651 -0.018087  ... -0.007020 -0.005620 -0.002157\n",
       "2  0.024492  0.009850 -0.005791  ...  0.000076  0.009088  0.001771\n",
       "3 -0.037377 -0.084072  0.147307  ...  0.008776  0.000437  0.008244\n",
       "4 -0.019384  0.011451 -0.005012  ...  0.008340 -0.006911  0.003562\n",
       "\n",
       "[5 rows x 350 columns]"
      ]
     },
     "execution_count": 21,
     "metadata": {
      "tags": []
     },
     "output_type": "execute_result"
    }
   ],
   "source": [
    "X_train.head()"
   ]
  },
  {
   "cell_type": "code",
   "execution_count": 0,
   "metadata": {
    "colab": {
     "base_uri": "https://localhost:8080/",
     "height": 206
    },
    "colab_type": "code",
    "id": "Hgp7s2rT4WmH",
    "outputId": "758a0f09-59c6-40ee-b92a-99d00c260df8"
   },
   "outputs": [
    {
     "data": {
      "text/html": [
       "<div>\n",
       "<style scoped>\n",
       "    .dataframe tbody tr th:only-of-type {\n",
       "        vertical-align: middle;\n",
       "    }\n",
       "\n",
       "    .dataframe tbody tr th {\n",
       "        vertical-align: top;\n",
       "    }\n",
       "\n",
       "    .dataframe thead th {\n",
       "        text-align: right;\n",
       "    }\n",
       "</style>\n",
       "<table border=\"1\" class=\"dataframe\">\n",
       "  <thead>\n",
       "    <tr style=\"text-align: right;\">\n",
       "      <th></th>\n",
       "      <th>0</th>\n",
       "    </tr>\n",
       "  </thead>\n",
       "  <tbody>\n",
       "    <tr>\n",
       "      <th>0</th>\n",
       "      <td>0</td>\n",
       "    </tr>\n",
       "    <tr>\n",
       "      <th>1</th>\n",
       "      <td>0</td>\n",
       "    </tr>\n",
       "    <tr>\n",
       "      <th>2</th>\n",
       "      <td>1</td>\n",
       "    </tr>\n",
       "    <tr>\n",
       "      <th>3</th>\n",
       "      <td>1</td>\n",
       "    </tr>\n",
       "    <tr>\n",
       "      <th>4</th>\n",
       "      <td>1</td>\n",
       "    </tr>\n",
       "  </tbody>\n",
       "</table>\n",
       "</div>"
      ],
      "text/plain": [
       "   0\n",
       "0  0\n",
       "1  0\n",
       "2  1\n",
       "3  1\n",
       "4  1"
      ]
     },
     "execution_count": 22,
     "metadata": {
      "tags": []
     },
     "output_type": "execute_result"
    }
   ],
   "source": [
    "y_train.head()"
   ]
  },
  {
   "cell_type": "markdown",
   "metadata": {
    "colab_type": "text",
    "id": "u5swA0icD8Mg"
   },
   "source": [
    "## 5 XGBoost"
   ]
  },
  {
   "cell_type": "markdown",
   "metadata": {
    "colab_type": "text",
    "id": "Un-GH-rjEHU6"
   },
   "source": [
    "### 5.1 Hypertuning"
   ]
  },
  {
   "cell_type": "code",
   "execution_count": 0,
   "metadata": {
    "colab": {
     "base_uri": "https://localhost:8080/",
     "height": 145
    },
    "colab_type": "code",
    "id": "Y6KZsfd-4Wj2",
    "outputId": "359bbbf2-d8e7-46c9-c8a2-efa6f0cb6fd1"
   },
   "outputs": [
    {
     "name": "stdout",
     "output_type": "stream",
     "text": [
      "XGBClassifier(base_score=0.5, booster='gbtree', colsample_bylevel=1,\n",
      "              colsample_bynode=1, colsample_bytree=1, gamma=0,\n",
      "              learning_rate=0.2, max_delta_step=0, max_depth=5,\n",
      "              min_child_weight=1, missing=None, n_estimators=100, n_jobs=1,\n",
      "              nthread=None, objective='binary:logistic', random_state=0,\n",
      "              reg_alpha=0, reg_lambda=1, scale_pos_weight=1, seed=None,\n",
      "              silent=None, subsample=1, verbosity=1)\n"
     ]
    }
   ],
   "source": [
    "import xgboost as xgb\n",
    "from sklearn.model_selection import GridSearchCV\n",
    "from sklearn.metrics import confusion_matrix, precision_score, recall_score, f1_score, precision_recall_curve, average_precision_score\n",
    "\n",
    "# use XGBClassifier\n",
    "xgb_model = xgb.XGBClassifier()  \n",
    "\n",
    "\n",
    "# use XGBClassifier\n",
    "xgb_model = xgb.XGBClassifier()  \n",
    "\n",
    "# this is the hyperparameter grid\n",
    "# try each combination\n",
    "# find the best hyper parameter conmination\n",
    "hyper_param_grid = [\n",
    "    {'max_depth': [3, 5, 7, 10], 'learning_rate': [0.01, 0.05, 0.1, 0.15, 0.2]},\n",
    "    {'subsample': [0.5, 0.8, 1], 'colsample_bytree': [0.5, 0.7, 1]},\n",
    "]\n",
    "\n",
    "\n",
    "\n",
    "# use grid search and cross validation to search the hyper parameter grid, set the fold is 5, judging the model with accuracy\n",
    "xgb_model_grid = GridSearchCV(xgb_model, hyper_param_grid, cv=5, scoring='accuracy')\n",
    "\n",
    "# fit the model with X_train and y_train\n",
    "xgb_model_grid.fit(X_train, y_train.values.ravel())\n",
    "\n",
    "# print the model with hyperparameters\n",
    "print(xgb_model_grid.best_estimator_)"
   ]
  },
  {
   "cell_type": "markdown",
   "metadata": {
    "colab_type": "text",
    "id": "3VLOBIOeKrSb"
   },
   "source": [
    "### 5.2 Predict"
   ]
  },
  {
   "cell_type": "code",
   "execution_count": 0,
   "metadata": {
    "colab": {
     "base_uri": "https://localhost:8080/",
     "height": 35
    },
    "colab_type": "code",
    "id": "4ZiiOcAt4Wie",
    "outputId": "7c6a4fff-d08f-4e0a-f5e4-7502f0c36dcf"
   },
   "outputs": [
    {
     "name": "stdout",
     "output_type": "stream",
     "text": [
      "[0 0 1 ... 1 0 0]\n"
     ]
    }
   ],
   "source": [
    "pred = xgb_model_grid.predict(X_test)  # Perform classification on an array of test vectors X.\n",
    "print(pred)"
   ]
  },
  {
   "cell_type": "markdown",
   "metadata": {
    "colab_type": "text",
    "id": "z7wXUQX7KxJx"
   },
   "source": [
    "### 5.3 Evaluate"
   ]
  },
  {
   "cell_type": "code",
   "execution_count": 0,
   "metadata": {
    "colab": {
     "base_uri": "https://localhost:8080/",
     "height": 127
    },
    "colab_type": "code",
    "id": "uNfBmEmi4Wgb",
    "outputId": "9a544946-b17b-4ff8-d0c8-0a55b866e81f"
   },
   "outputs": [
    {
     "name": "stdout",
     "output_type": "stream",
     "text": [
      "confusion matrix: \n",
      "[[854 114]\n",
      " [115 818]]\n",
      "precision:   0.878\n",
      "recall:   0.877\n",
      "f1:   0.877\n"
     ]
    }
   ],
   "source": [
    "from sklearn.metrics import confusion_matrix, precision_score, recall_score, f1_score, precision_recall_curve, average_precision_score, make_scorer\n",
    "from sklearn import metrics\n",
    "import numpy as np\n",
    "import matplotlib.pyplot as plt\n",
    "\n",
    "# confusion matrix, precision, recall, f1\n",
    "cm = metrics.confusion_matrix(y_test, pred)\n",
    "print(\"confusion matrix: \")\n",
    "print(cm)\n",
    "precision = metrics.precision_score(y_test, pred)\n",
    "recall = metrics.recall_score(y_test, pred)\n",
    "f1 = metrics.f1_score(y_test, pred)\n",
    "print(\"precision:   %0.3f\" % precision)\n",
    "print(\"recall:   %0.3f\" % recall)\n",
    "print(\"f1:   %0.3f\" % f1)"
   ]
  },
  {
   "cell_type": "code",
   "execution_count": 0,
   "metadata": {
    "colab": {
     "base_uri": "https://localhost:8080/",
     "height": 297
    },
    "colab_type": "code",
    "id": "GMsO35ww4Wew",
    "outputId": "9094e10c-3faa-473b-a3a7-834ff43f61af"
   },
   "outputs": [
    {
     "data": {
      "image/png": "[encoded data removed]",
      "text/plain": [
       "<Figure size 432x288 with 2 Axes>"
      ]
     },
     "metadata": {
      "tags": []
     },
     "output_type": "display_data"
    }
   ],
   "source": [
    "# plot the confusion matrix\n",
    "classes = ['1-Fake', '0-Not fake']\n",
    "\n",
    "plt.imshow(cm, interpolation='nearest', cmap=plt.cm.Oranges)  # Display matrix by pixel\n",
    "plt.title('confusion_matrix')\n",
    "plt.colorbar()\n",
    "tick_marks = np.arange(len(classes))\n",
    "plt.xticks(tick_marks, classes)\n",
    "plt.yticks(tick_marks, classes)\n",
    "\n",
    "iters = np.reshape([[[i, j] for j in range(2)] for i in range(2)], (cm.size, 2))\n",
    "for i, j in iters:\n",
    "    plt.text(j, i, format(cm[i, j]))  # Display the corresponding number\n",
    "\n",
    "plt.ylabel('Real label')\n",
    "plt.xlabel('Prediction')\n",
    "plt.tight_layout()\n",
    "plt.show()"
   ]
  },
  {
   "cell_type": "code",
   "execution_count": 0,
   "metadata": {
    "colab": {
     "base_uri": "https://localhost:8080/",
     "height": 281
    },
    "colab_type": "code",
    "id": "FguY5pDF4Wcd",
    "outputId": "5c3c1d26-64a8-450b-dd3c-0f42b7a1f079"
   },
   "outputs": [
    {
     "data": {
      "image/png": "[encoded data removed]",
      "text/plain": [
       "<Figure size 432x288 with 1 Axes>"
      ]
     },
     "metadata": {
      "tags": []
     },
     "output_type": "display_data"
    }
   ],
   "source": [
    "# plot the precision-recall curve for XGBoostwith AUC\n",
    "from sklearn.metrics import auc\n",
    "# calculate precision-recall curve\n",
    "precision, recall, thresholds = precision_recall_curve(y_test, pred)\n",
    "# calculate precision-recall AUC\n",
    "auc_xgb = auc(recall, precision)\n",
    "# plot no skill\n",
    "plt.plot([0, 1], [0.5, 0.5], linestyle='--')\n",
    "# plot the precision-recall curve for the model\n",
    "plt.plot(recall, precision, marker='.')\n",
    "plt.title(\"Precison-Recall Curve for XGBoost with AUC score: {:.3f}\".format(auc_xgb))\n",
    "# show the plot\n",
    "plt.show()"
   ]
  }
 ],
 "metadata": {
  "accelerator": "GPU",
  "colab": {
   "collapsed_sections": [],
   "name": "Doc2Vec+xgboost.ipynb",
   "provenance": [],
   "toc_visible": true,
   "version": "0.3.2"
  },
  "kernelspec": {
   "display_name": "Python 3",
   "language": "python",
   "name": "python3"
  },
  "language_info": {
   "codemirror_mode": {
    "name": "ipython",
    "version": 3
   },
   "file_extension": ".py",
   "mimetype": "text/x-python",
   "name": "python",
   "nbconvert_exporter": "python",
   "pygments_lexer": "ipython3",
   "version": "3.6.2"
  }
 },
 "nbformat": 4,
 "nbformat_minor": 1
}
